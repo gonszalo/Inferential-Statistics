{
 "cells": [
  {
   "cell_type": "code",
   "execution_count": 1,
   "id": "432fb88e",
   "metadata": {},
   "outputs": [
    {
     "data": {
      "text/plain": [
       "4.761904761904759"
      ]
     },
     "execution_count": 1,
     "metadata": {},
     "output_type": "execute_result"
    }
   ],
   "source": [
    "import math\n",
    "\n",
    "sample_mean = 130.1\n",
    "pop_mean = 120\n",
    "pop_std = 21.21\n",
    "n = 100\n",
    "\n",
    "statistic = (sample_mean - pop_mean)/(pop_std/math.sqrt(n))\n",
    "statistic"
   ]
  },
  {
   "cell_type": "code",
   "execution_count": null,
   "id": "c05773d1",
   "metadata": {},
   "outputs": [],
   "source": [
    "#Step 1: Define the null hypothesis - This is our assumption about the population. It is defined by H0 and in this case H0: μ = 120;\n",
    "\n",
    "#Step 2: Define the alternative hypothesis - This means, what if our assumption is not true. It is defined by Ha and in this case Ha: μ < 120.\n",
    "\n",
    "#Step 3: Determine if it is a one-tailed or a two-tailed test. Two-tailed is when the mean tested (alternative hypothesis) can be > or < then the mean of the population. In this case we are checking if the mean of the weight of the boys in the home is smaller then the mean of the population of boys, so we will consider it a one-tailed test.\n",
    "\n",
    "#Step 4: Decide a test statistics based on the information available. Assuming data is normally distributed and number of observations are less then 30 and population variance is known (since population standard deviation is provided), we will use a t-test. This test is based on a \"t-distribution\" which is a normal distribution. If the population variance was not known or the testing sample is less then 30, we use a t-test. T test is based on students t distribution which is very similar to a standard normal distribution except that it is much flatter.\n",
    "\n",
    "#Step 5: Level of significance: This defines the rejection region/critical region, it's the probability of making the wrong decision when the null hypothesis is true. Usually it is 0.05. It is defined by greek letter 'alpha'. In the medical field this would go down to 0.01.\n",
    "\n",
    "#Step 6: Calculate the test statistic based on the given information.\n",
    "\n",
    "#Step 7: Check the table to determine the critical value.\n",
    "#For z-test you have fixed values according to Confidence Level.\n",
    "#For t-test you have to calculate according to the degrees of freedom (df), which is the sample_size - 1.\n",
    "\n",
    "#Step 8: Make conclusions:\n",
    "\n",
    "#If the test statistic falls in the critical region, then we reject the Null Hypothesis\n",
    "#If the test statistic falls in the region between the critical region, then we fail to reject the Null Hypothesis."
   ]
  }
 ],
 "metadata": {
  "kernelspec": {
   "display_name": "Python 3 (ipykernel)",
   "language": "python",
   "name": "python3"
  },
  "language_info": {
   "codemirror_mode": {
    "name": "ipython",
    "version": 3
   },
   "file_extension": ".py",
   "mimetype": "text/x-python",
   "name": "python",
   "nbconvert_exporter": "python",
   "pygments_lexer": "ipython3",
   "version": "3.9.7"
  }
 },
 "nbformat": 4,
 "nbformat_minor": 5
}
